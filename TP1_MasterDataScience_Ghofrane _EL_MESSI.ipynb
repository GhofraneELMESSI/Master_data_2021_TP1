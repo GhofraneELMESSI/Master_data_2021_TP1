{
 "cells": [
  {
   "cell_type": "markdown",
   "id": "84785af9",
   "metadata": {},
   "source": [
    "# Atelier 1 : Apprentissage non supervisé avec Python"
   ]
  },
  {
   "cell_type": "markdown",
   "id": "fec865ff",
   "metadata": {},
   "source": [
    "Elève : Ghofrane EL MESSI"
   ]
  },
  {
   "cell_type": "markdown",
   "id": "bec5a643",
   "metadata": {},
   "source": [
    "### I. Réduction de dimensions et Visualisation des données "
   ]
  },
  {
   "cell_type": "markdown",
   "id": "896bde68",
   "metadata": {},
   "source": [
    "### Données \"villes.csv\" "
   ]
  },
  {
   "cell_type": "code",
   "execution_count": 167,
   "id": "43997cde",
   "metadata": {},
   "outputs": [],
   "source": [
    "import numpy as np\n",
    "np.set_printoptions(threshold=10000,suppress=True)\n",
    "import pandas as pd\n",
    "import warnings\n",
    "import matplotlib.pyplot as plt\n",
    "warnings.filterwarnings('ignore')"
   ]
  },
  {
   "cell_type": "markdown",
   "id": "eba53a69",
   "metadata": {},
   "source": [
    "### Question 1 :importer les données"
   ]
  },
  {
   "cell_type": "code",
   "execution_count": 168,
   "id": "af12afd1",
   "metadata": {},
   "outputs": [],
   "source": [
    "data = pd.read_csv(r\"C:\\Users\\ghofr\\OneDrive\\Bureau\\TP\\TP\\villes.csv\", sep=';')\n",
    "X = data.iloc[:, 1:13].values\n",
    "labels = data.iloc[:, 0].values"
   ]
  },
  {
   "cell_type": "code",
   "execution_count": 169,
   "id": "49814e68",
   "metadata": {},
   "outputs": [
    {
     "data": {
      "text/html": [
       "<div>\n",
       "<style scoped>\n",
       "    .dataframe tbody tr th:only-of-type {\n",
       "        vertical-align: middle;\n",
       "    }\n",
       "\n",
       "    .dataframe tbody tr th {\n",
       "        vertical-align: top;\n",
       "    }\n",
       "\n",
       "    .dataframe thead th {\n",
       "        text-align: right;\n",
       "    }\n",
       "</style>\n",
       "<table border=\"1\" class=\"dataframe\">\n",
       "  <thead>\n",
       "    <tr style=\"text-align: right;\">\n",
       "      <th></th>\n",
       "      <th>ville</th>\n",
       "      <th>janv</th>\n",
       "      <th>fev</th>\n",
       "      <th>mars</th>\n",
       "      <th>avril</th>\n",
       "      <th>mai</th>\n",
       "      <th>juin</th>\n",
       "      <th>juil</th>\n",
       "      <th>aout</th>\n",
       "      <th>sept</th>\n",
       "      <th>oct</th>\n",
       "      <th>nov</th>\n",
       "      <th>dec</th>\n",
       "    </tr>\n",
       "  </thead>\n",
       "  <tbody>\n",
       "    <tr>\n",
       "      <th>0</th>\n",
       "      <td>ajac</td>\n",
       "      <td>7.7</td>\n",
       "      <td>8.7</td>\n",
       "      <td>10.5</td>\n",
       "      <td>12.6</td>\n",
       "      <td>15.9</td>\n",
       "      <td>19.8</td>\n",
       "      <td>22.0</td>\n",
       "      <td>22.2</td>\n",
       "      <td>20.3</td>\n",
       "      <td>16.3</td>\n",
       "      <td>11.8</td>\n",
       "      <td>8.7</td>\n",
       "    </tr>\n",
       "    <tr>\n",
       "      <th>1</th>\n",
       "      <td>ange</td>\n",
       "      <td>4.2</td>\n",
       "      <td>4.9</td>\n",
       "      <td>7.9</td>\n",
       "      <td>10.4</td>\n",
       "      <td>13.6</td>\n",
       "      <td>17.0</td>\n",
       "      <td>18.7</td>\n",
       "      <td>18.4</td>\n",
       "      <td>16.1</td>\n",
       "      <td>11.7</td>\n",
       "      <td>7.6</td>\n",
       "      <td>4.9</td>\n",
       "    </tr>\n",
       "    <tr>\n",
       "      <th>2</th>\n",
       "      <td>ango</td>\n",
       "      <td>4.6</td>\n",
       "      <td>5.4</td>\n",
       "      <td>8.9</td>\n",
       "      <td>11.3</td>\n",
       "      <td>14.5</td>\n",
       "      <td>17.2</td>\n",
       "      <td>19.5</td>\n",
       "      <td>19.4</td>\n",
       "      <td>16.9</td>\n",
       "      <td>12.5</td>\n",
       "      <td>8.1</td>\n",
       "      <td>5.3</td>\n",
       "    </tr>\n",
       "    <tr>\n",
       "      <th>3</th>\n",
       "      <td>besa</td>\n",
       "      <td>1.1</td>\n",
       "      <td>2.2</td>\n",
       "      <td>6.4</td>\n",
       "      <td>9.7</td>\n",
       "      <td>13.6</td>\n",
       "      <td>16.9</td>\n",
       "      <td>18.7</td>\n",
       "      <td>18.3</td>\n",
       "      <td>15.5</td>\n",
       "      <td>10.4</td>\n",
       "      <td>5.7</td>\n",
       "      <td>2.0</td>\n",
       "    </tr>\n",
       "  </tbody>\n",
       "</table>\n",
       "</div>"
      ],
      "text/plain": [
       "  ville  janv  fev  mars  avril   mai  juin  juil  aout  sept   oct   nov  dec\n",
       "0  ajac   7.7  8.7  10.5   12.6  15.9  19.8  22.0  22.2  20.3  16.3  11.8  8.7\n",
       "1  ange   4.2  4.9   7.9   10.4  13.6  17.0  18.7  18.4  16.1  11.7   7.6  4.9\n",
       "2  ango   4.6  5.4   8.9   11.3  14.5  17.2  19.5  19.4  16.9  12.5   8.1  5.3\n",
       "3  besa   1.1  2.2   6.4    9.7  13.6  16.9  18.7  18.3  15.5  10.4   5.7  2.0"
      ]
     },
     "execution_count": 169,
     "metadata": {},
     "output_type": "execute_result"
    }
   ],
   "source": [
    "# observation des données \n",
    "data.head(4)"
   ]
  },
  {
   "cell_type": "markdown",
   "id": "78f5b7d3",
   "metadata": {},
   "source": [
    "### Question 2 : Analyse en Composantes Principales"
   ]
  },
  {
   "cell_type": "code",
   "execution_count": 117,
   "id": "bba01292",
   "metadata": {},
   "outputs": [],
   "source": [
    "# Normalization des données\n",
    "from sklearn.preprocessing import StandardScaler \n",
    "from sklearn.decomposition import PCA\n",
    "scaler = StandardScaler()\n",
    "scaler.fit(X)\n",
    "XNormalisé = scaler.transform(X)"
   ]
  },
  {
   "cell_type": "code",
   "execution_count": 118,
   "id": "dadadea6",
   "metadata": {},
   "outputs": [
    {
     "data": {
      "text/plain": [
       "array([ 0.116831  ,  0.05000944, -0.1285452 , -0.32148026, -0.52942092,\n",
       "       -0.42704427, -0.5237069 , -0.53585369, -0.41130215, -0.27258829,\n",
       "       -0.12654562,  0.04961627])"
      ]
     },
     "execution_count": 118,
     "metadata": {},
     "output_type": "execute_result"
    }
   ],
   "source": [
    "XNormalisé[1]"
   ]
  },
  {
   "cell_type": "code",
   "execution_count": 126,
   "id": "49133d59",
   "metadata": {},
   "outputs": [
    {
     "data": {
      "text/plain": [
       "PCA()"
      ]
     },
     "execution_count": 126,
     "metadata": {},
     "output_type": "execute_result"
    }
   ],
   "source": [
    "#appliquer la PCA\n",
    "pca=PCA()\n",
    "pca.fit(XNormalisé)\n"
   ]
  },
  {
   "cell_type": "code",
   "execution_count": 127,
   "id": "6bfd7f87",
   "metadata": {},
   "outputs": [
    {
     "data": {
      "text/plain": [
       "[<matplotlib.lines.Line2D at 0x2661a7ebbe0>]"
      ]
     },
     "execution_count": 127,
     "metadata": {},
     "output_type": "execute_result"
    },
    {
     "data": {
      "image/png": "[encoded data removed]",
      "text/plain": [
       "<Figure size 432x288 with 1 Axes>"
      ]
     },
     "metadata": {
      "needs_background": "light"
     },
     "output_type": "display_data"
    }
   ],
   "source": [
    "plt.plot(pca.explained_variance_ratio_)"
   ]
  },
  {
   "cell_type": "code",
   "execution_count": 128,
   "id": "b73f9013",
   "metadata": {},
   "outputs": [
    {
     "name": "stdout",
     "output_type": "stream",
     "text": [
      "[0.87268193 0.11720602 0.00469563 0.00264791 0.00113528 0.00050136\n",
      " 0.00042289 0.00032817 0.00015166 0.00011764 0.00008364 0.00002786]\n"
     ]
    },
    {
     "data": {
      "text/plain": [
       "0.9898879529268558"
      ]
     },
     "execution_count": 128,
     "metadata": {},
     "output_type": "execute_result"
    }
   ],
   "source": [
    "print(pca.explained_variance_ratio_)\n",
    "sum(pca.explained_variance_ratio_[:2])"
   ]
  },
  {
   "cell_type": "markdown",
   "id": "5ce54f54",
   "metadata": {},
   "source": [
    "En regardant les pca.explained_variance_ratio_ cumulées sur les deux premiers axes, on a 98ù de l'information donc le nombre d’axes à retenir pour conserver un minimum de 90% de l’information.\n",
    "Le plot ci-dessus aussi confirme cette conclusion.\n"
   ]
  },
  {
   "cell_type": "code",
   "execution_count": 129,
   "id": "edac3013",
   "metadata": {},
   "outputs": [
    {
     "data": {
      "text/plain": [
       "array([10.80999558,  1.45184229,  0.0581652 ,  0.03279996,  0.01406283,\n",
       "        0.00621041,  0.00523837,  0.00406512,  0.00187861,  0.00145726,\n",
       "        0.0010361 ,  0.00034505])"
      ]
     },
     "execution_count": 129,
     "metadata": {},
     "output_type": "execute_result"
    }
   ],
   "source": [
    "pca.explained_variance_"
   ]
  },
  {
   "cell_type": "code",
   "execution_count": 138,
   "id": "bb9f2e34",
   "metadata": {},
   "outputs": [
    {
     "name": "stdout",
     "output_type": "stream",
     "text": [
      "[[ 0.27151028  0.28846164  0.3010811   0.30354174  0.28353089  0.27841907\n",
      "   0.27290295  0.28757774  0.30472022  0.3038548   0.29242808  0.2729549 ]\n",
      " [ 0.39933494  0.29907184  0.12943051 -0.11530598 -0.32314291 -0.35846763\n",
      "  -0.38879639 -0.3010133  -0.11231622  0.12249226  0.26269461  0.38693688]]\n"
     ]
    },
    {
     "data": {
      "text/plain": [
       "0.2886751345948129"
      ]
     },
     "execution_count": 138,
     "metadata": {},
     "output_type": "execute_result"
    }
   ],
   "source": [
    "import math\n",
    "pca=PCA(n_components=2)\n",
    "pca.fit(XNormalisé)\n",
    "print(pca.components_)\n",
    "valeur_lam = 1/math.sqrt(12)\n",
    "valeur_lam"
   ]
  },
  {
   "cell_type": "markdown",
   "id": "2577e605",
   "metadata": {},
   "source": [
    "Interprétation des deux axes pricnipaux:\n",
    "En comparant les valeurs propres à 1/racine(nombre de valeurs propres) on voit qu'on a sur le premier axes des valeurs proches de la moyenne. On peut dire qhe le premier axe correpond à la moyenne.\n",
    "\n",
    "En regardant, les variables propres sur le deuxieme axe, on voit une distinction entre hiver-été."
   ]
  },
  {
   "cell_type": "code",
   "execution_count": 93,
   "id": "699f29da",
   "metadata": {},
   "outputs": [
    {
     "data": {
      "image/png": "[encoded data removed]",
      "text/plain": [
       "<Figure size 432x288 with 1 Axes>"
      ]
     },
     "metadata": {
      "needs_background": "light"
     },
     "output_type": "display_data"
    }
   ],
   "source": [
    "X_pca= pca.transform(XNormalisé)\n",
    "import matplotlib\n",
    "plt.scatter(X_pca[:, 0], X_pca[:, 1])\n",
    "for label, x, y in zip(labels, X_pca[:, 0], X_pca[:, 1]):\n",
    " plt.annotate(label, xy=(x, y), xytext=(-0.2, 0.2), textcoords='offset points')\n",
    "plt.show()"
   ]
  },
  {
   "cell_type": "markdown",
   "id": "e9690714",
   "metadata": {},
   "source": [
    "Interprétation des deux axes pricnipaux:\n",
    "On voit deux clusters sur le plot qui correpond à deux tendances. Ce qui confirment un peu en regardant les villes notre interprétation précédente."
   ]
  },
  {
   "cell_type": "markdown",
   "id": "b4108154",
   "metadata": {},
   "source": [
    "### Données \"crimes.csv\" "
   ]
  },
  {
   "cell_type": "code",
   "execution_count": 145,
   "id": "af33b027",
   "metadata": {},
   "outputs": [],
   "source": [
    "data = pd.read_csv(r\"C:\\Users\\ghofr\\OneDrive\\Bureau\\TP\\TP\\crimes.csv\", sep=';')\n",
    "X = data.iloc[:, 1:13].values\n",
    "labels = data.iloc[:, 0].values"
   ]
  },
  {
   "cell_type": "code",
   "execution_count": 146,
   "id": "f8690c1c",
   "metadata": {},
   "outputs": [
    {
     "data": {
      "text/html": [
       "<div>\n",
       "<style scoped>\n",
       "    .dataframe tbody tr th:only-of-type {\n",
       "        vertical-align: middle;\n",
       "    }\n",
       "\n",
       "    .dataframe tbody tr th {\n",
       "        vertical-align: top;\n",
       "    }\n",
       "\n",
       "    .dataframe thead th {\n",
       "        text-align: right;\n",
       "    }\n",
       "</style>\n",
       "<table border=\"1\" class=\"dataframe\">\n",
       "  <thead>\n",
       "    <tr style=\"text-align: right;\">\n",
       "      <th></th>\n",
       "      <th>Etat</th>\n",
       "      <th>Meutre</th>\n",
       "      <th>Rapt</th>\n",
       "      <th>Vol</th>\n",
       "      <th>Attaque</th>\n",
       "      <th>Viol</th>\n",
       "      <th>Larcin</th>\n",
       "      <th>Auto_Theft</th>\n",
       "    </tr>\n",
       "  </thead>\n",
       "  <tbody>\n",
       "    <tr>\n",
       "      <th>0</th>\n",
       "      <td>Alabama</td>\n",
       "      <td>14.2</td>\n",
       "      <td>25.2</td>\n",
       "      <td>96.8</td>\n",
       "      <td>278.3</td>\n",
       "      <td>1135.5</td>\n",
       "      <td>1881.9</td>\n",
       "      <td>280.7</td>\n",
       "    </tr>\n",
       "    <tr>\n",
       "      <th>1</th>\n",
       "      <td>Alaska</td>\n",
       "      <td>10.8</td>\n",
       "      <td>51.6</td>\n",
       "      <td>96.8</td>\n",
       "      <td>284.0</td>\n",
       "      <td>1331.7</td>\n",
       "      <td>3369.8</td>\n",
       "      <td>753.3</td>\n",
       "    </tr>\n",
       "    <tr>\n",
       "      <th>2</th>\n",
       "      <td>Arizona</td>\n",
       "      <td>9.5</td>\n",
       "      <td>34.2</td>\n",
       "      <td>138.2</td>\n",
       "      <td>312.3</td>\n",
       "      <td>2346.1</td>\n",
       "      <td>4467.4</td>\n",
       "      <td>439.5</td>\n",
       "    </tr>\n",
       "    <tr>\n",
       "      <th>3</th>\n",
       "      <td>Arkansas</td>\n",
       "      <td>8.8</td>\n",
       "      <td>27.6</td>\n",
       "      <td>83.2</td>\n",
       "      <td>203.4</td>\n",
       "      <td>972.6</td>\n",
       "      <td>1862.1</td>\n",
       "      <td>183.4</td>\n",
       "    </tr>\n",
       "  </tbody>\n",
       "</table>\n",
       "</div>"
      ],
      "text/plain": [
       "      Etat   Meutre  Rapt    Vol  Attaque    Viol  Larcin  Auto_Theft\n",
       "0   Alabama    14.2  25.2   96.8    278.3  1135.5  1881.9       280.7\n",
       "1    Alaska    10.8  51.6   96.8    284.0  1331.7  3369.8       753.3\n",
       "2   Arizona     9.5  34.2  138.2    312.3  2346.1  4467.4       439.5\n",
       "3  Arkansas     8.8  27.6   83.2    203.4   972.6  1862.1       183.4"
      ]
     },
     "execution_count": 146,
     "metadata": {},
     "output_type": "execute_result"
    }
   ],
   "source": [
    "data.head(4)"
   ]
  },
  {
   "cell_type": "code",
   "execution_count": 147,
   "id": "9a33ab26",
   "metadata": {},
   "outputs": [],
   "source": [
    "# Normalization des données\n",
    "from sklearn.preprocessing import StandardScaler \n",
    "from sklearn.decomposition import PCA\n",
    "scaler = StandardScaler()\n",
    "scaler.fit(X)\n",
    "XNormalisé = scaler.transform(X)"
   ]
  },
  {
   "cell_type": "code",
   "execution_count": 148,
   "id": "6797d8d7",
   "metadata": {},
   "outputs": [
    {
     "data": {
      "text/plain": [
       "array([ 0.87671955,  2.4283926 , -0.31204901,  0.73252725,  0.09295757,\n",
       "        0.97202812,  1.96277156])"
      ]
     },
     "execution_count": 148,
     "metadata": {},
     "output_type": "execute_result"
    }
   ],
   "source": [
    "XNormalisé[1]"
   ]
  },
  {
   "cell_type": "code",
   "execution_count": 149,
   "id": "24f412d3",
   "metadata": {},
   "outputs": [
    {
     "data": {
      "text/plain": [
       "PCA()"
      ]
     },
     "execution_count": 149,
     "metadata": {},
     "output_type": "execute_result"
    }
   ],
   "source": [
    "#appliquer la PCA\n",
    "pca=PCA()\n",
    "pca.fit(XNormalisé)"
   ]
  },
  {
   "cell_type": "code",
   "execution_count": 150,
   "id": "e334d35a",
   "metadata": {},
   "outputs": [
    {
     "data": {
      "text/plain": [
       "[<matplotlib.lines.Line2D at 0x2661a74dfd0>]"
      ]
     },
     "execution_count": 150,
     "metadata": {},
     "output_type": "execute_result"
    },
    {
     "data": {
      "image/png": "[encoded data removed]",
      "text/plain": [
       "<Figure size 432x288 with 1 Axes>"
      ]
     },
     "metadata": {
      "needs_background": "light"
     },
     "output_type": "display_data"
    }
   ],
   "source": [
    "plt.plot(pca.explained_variance_ratio_)"
   ]
  },
  {
   "cell_type": "code",
   "execution_count": 151,
   "id": "81e2bd62",
   "metadata": {},
   "outputs": [
    {
     "name": "stdout",
     "output_type": "stream",
     "text": [
      "[0.58785136 0.17696026 0.10368809 0.04520458 0.03685349 0.03171992\n",
      " 0.01772229]\n"
     ]
    },
    {
     "data": {
      "text/plain": [
       "0.9137042876203039"
      ]
     },
     "execution_count": 151,
     "metadata": {},
     "output_type": "execute_result"
    }
   ],
   "source": [
    "print(pca.explained_variance_ratio_)\n",
    "sum(pca.explained_variance_ratio_[:4])"
   ]
  },
  {
   "cell_type": "markdown",
   "id": "48098d89",
   "metadata": {},
   "source": [
    "En regardant les pca.explained_variance_ratio_ cumulées sur les quatres premiers axes, on a 98ù de l'information donc le nombre d’axes à retenir pour conserver un minimum de 90% de l’information.\n",
    "Le plot ci-dessus aussi confirme cette conclusion."
   ]
  },
  {
   "cell_type": "code",
   "execution_count": 153,
   "id": "9278eec1",
   "metadata": {},
   "outputs": [
    {
     "name": "stdout",
     "output_type": "stream",
     "text": [
      "[[ 0.30027916  0.43175936  0.39687549  0.3966517   0.44015721  0.35735953\n",
      "   0.29517681]\n",
      " [-0.62917444 -0.16943512  0.04224698 -0.34352815  0.20334059  0.40231912\n",
      "   0.50242093]\n",
      " [ 0.1782453  -0.24419758  0.49586087 -0.06950972 -0.20989509 -0.53923144\n",
      "   0.56838373]\n",
      " [-0.23211411  0.06221567 -0.55798926  0.62980445 -0.05755491 -0.23488987\n",
      "   0.41923832]\n",
      " [ 0.53812286  0.18847069 -0.51997683 -0.50665138  0.10103335  0.03009857\n",
      "   0.36975317]\n",
      " [-0.25911677  0.77327066  0.11438481 -0.17236294 -0.53598716 -0.03940645\n",
      "   0.05729763]\n",
      " [-0.26759277  0.29648548  0.00390268 -0.19174459  0.64811708 -0.60169004\n",
      "  -0.14704626]]\n"
     ]
    },
    {
     "data": {
      "text/plain": [
       "0.3779644730092272"
      ]
     },
     "execution_count": 153,
     "metadata": {},
     "output_type": "execute_result"
    }
   ],
   "source": [
    "print(pca.components_)\n",
    "valeur_lam = 1/math.sqrt(7)\n",
    "valeur_lam"
   ]
  },
  {
   "cell_type": "code",
   "execution_count": 46,
   "id": "31d3045e",
   "metadata": {},
   "outputs": [
    {
     "data": {
      "image/png": "[encoded data removed]",
      "text/plain": [
       "<Figure size 432x288 with 1 Axes>"
      ]
     },
     "metadata": {
      "needs_background": "light"
     },
     "output_type": "display_data"
    }
   ],
   "source": [
    "X_pca= pca.transform(XNormalisé)\n",
    "import matplotlib\n",
    "plt.scatter(X_pca[:, 0], X_pca[:, 1])\n",
    "for label, x, y in zip(labels, X_pca[:, 0], X_pca[:, 1]):\n",
    " plt.annotate(label, xy=(x, y), xytext=(-0.2, 0.2), textcoords='offset points')\n",
    "plt.show()"
   ]
  },
  {
   "cell_type": "markdown",
   "id": "a4eb4304",
   "metadata": {},
   "source": [
    "Interprétation des deux axes pricnipaux:\n",
    "On peut voir que  l'axe 1 est un axe de moyenne criminalité sur les différentes états (comme pour les villes). \n",
    "\n",
    "Pour l'axe 2, on voit que les (meurtres, attaques et enlevement) ont des coefficients négatives et que les (Vol, viol, larçin, carjacking) ont des coefficients positives. L'axe 2 permet donc de différencier deux groupes de crimes.  "
   ]
  },
  {
   "cell_type": "markdown",
   "id": "fc924f21",
   "metadata": {},
   "source": [
    "### Données \"50_Startups.csv\""
   ]
  },
  {
   "cell_type": "code",
   "execution_count": 155,
   "id": "c8331878",
   "metadata": {},
   "outputs": [],
   "source": [
    "data = pd.read_csv(r\"C:\\Users\\ghofr\\OneDrive\\Bureau\\TP\\TP\\50_Startups.csv\", sep=';')\n",
    "X = data.iloc[:, 1:13].values\n",
    "labels = data.iloc[:, 0].values"
   ]
  },
  {
   "cell_type": "code",
   "execution_count": 156,
   "id": "49a451fc",
   "metadata": {},
   "outputs": [
    {
     "data": {
      "text/html": [
       "<div>\n",
       "<style scoped>\n",
       "    .dataframe tbody tr th:only-of-type {\n",
       "        vertical-align: middle;\n",
       "    }\n",
       "\n",
       "    .dataframe tbody tr th {\n",
       "        vertical-align: top;\n",
       "    }\n",
       "\n",
       "    .dataframe thead th {\n",
       "        text-align: right;\n",
       "    }\n",
       "</style>\n",
       "<table border=\"1\" class=\"dataframe\">\n",
       "  <thead>\n",
       "    <tr style=\"text-align: right;\">\n",
       "      <th></th>\n",
       "      <th>Id</th>\n",
       "      <th>Depenses R&amp;D</th>\n",
       "      <th>Depenses Administration</th>\n",
       "      <th>Depenses Marketing Spend</th>\n",
       "      <th>Benefice</th>\n",
       "    </tr>\n",
       "  </thead>\n",
       "  <tbody>\n",
       "    <tr>\n",
       "      <th>0</th>\n",
       "      <td>1</td>\n",
       "      <td>165349.20</td>\n",
       "      <td>136897.80</td>\n",
       "      <td>471784.10</td>\n",
       "      <td>192261.83</td>\n",
       "    </tr>\n",
       "    <tr>\n",
       "      <th>1</th>\n",
       "      <td>2</td>\n",
       "      <td>162597.70</td>\n",
       "      <td>151377.59</td>\n",
       "      <td>443898.53</td>\n",
       "      <td>191792.06</td>\n",
       "    </tr>\n",
       "    <tr>\n",
       "      <th>2</th>\n",
       "      <td>3</td>\n",
       "      <td>153441.51</td>\n",
       "      <td>101145.55</td>\n",
       "      <td>407934.54</td>\n",
       "      <td>191050.39</td>\n",
       "    </tr>\n",
       "    <tr>\n",
       "      <th>3</th>\n",
       "      <td>4</td>\n",
       "      <td>144372.41</td>\n",
       "      <td>118671.85</td>\n",
       "      <td>383199.62</td>\n",
       "      <td>182901.99</td>\n",
       "    </tr>\n",
       "  </tbody>\n",
       "</table>\n",
       "</div>"
      ],
      "text/plain": [
       "   Id  Depenses R&D  Depenses Administration  Depenses Marketing Spend  \\\n",
       "0   1     165349.20                136897.80                 471784.10   \n",
       "1   2     162597.70                151377.59                 443898.53   \n",
       "2   3     153441.51                101145.55                 407934.54   \n",
       "3   4     144372.41                118671.85                 383199.62   \n",
       "\n",
       "    Benefice  \n",
       "0  192261.83  \n",
       "1  191792.06  \n",
       "2  191050.39  \n",
       "3  182901.99  "
      ]
     },
     "execution_count": 156,
     "metadata": {},
     "output_type": "execute_result"
    }
   ],
   "source": [
    "data.head(4)"
   ]
  },
  {
   "cell_type": "code",
   "execution_count": 157,
   "id": "82cd311a",
   "metadata": {},
   "outputs": [],
   "source": [
    "# Normalization des données\n",
    "from sklearn.preprocessing import StandardScaler \n",
    "from sklearn.decomposition import PCA\n",
    "scaler = StandardScaler()\n",
    "scaler.fit(X)\n",
    "XNormalisé = scaler.transform(X)"
   ]
  },
  {
   "cell_type": "code",
   "execution_count": 158,
   "id": "a881c9ca",
   "metadata": {},
   "outputs": [
    {
     "data": {
      "text/plain": [
       "array([1.95586034, 1.08280658, 1.9236004 , 1.99942997])"
      ]
     },
     "execution_count": 158,
     "metadata": {},
     "output_type": "execute_result"
    }
   ],
   "source": [
    "XNormalisé[1]"
   ]
  },
  {
   "cell_type": "code",
   "execution_count": 159,
   "id": "f1c64ec1",
   "metadata": {},
   "outputs": [
    {
     "data": {
      "text/plain": [
       "PCA()"
      ]
     },
     "execution_count": 159,
     "metadata": {},
     "output_type": "execute_result"
    }
   ],
   "source": [
    "#appliquer la PCA\n",
    "pca=PCA()\n",
    "pca.fit(XNormalisé)"
   ]
  },
  {
   "cell_type": "code",
   "execution_count": 160,
   "id": "33a9f040",
   "metadata": {},
   "outputs": [
    {
     "data": {
      "text/plain": [
       "[<matplotlib.lines.Line2D at 0x26619716b20>]"
      ]
     },
     "execution_count": 160,
     "metadata": {},
     "output_type": "execute_result"
    },
    {
     "data": {
      "image/png": "[encoded data removed]",
      "text/plain": [
       "<Figure size 432x288 with 1 Axes>"
      ]
     },
     "metadata": {
      "needs_background": "light"
     },
     "output_type": "display_data"
    }
   ],
   "source": [
    "plt.plot(pca.explained_variance_ratio_)"
   ]
  },
  {
   "cell_type": "code",
   "execution_count": 161,
   "id": "e8cba2e0",
   "metadata": {},
   "outputs": [
    {
     "name": "stdout",
     "output_type": "stream",
     "text": [
      "[0.66804393 0.25484695 0.07063561 0.00647351]\n"
     ]
    },
    {
     "data": {
      "text/plain": [
       "0.9228908746506943"
      ]
     },
     "execution_count": 161,
     "metadata": {},
     "output_type": "execute_result"
    }
   ],
   "source": [
    "print(pca.explained_variance_ratio_)\n",
    "sum(pca.explained_variance_ratio_[:2])"
   ]
  },
  {
   "cell_type": "markdown",
   "id": "8821eeef",
   "metadata": {},
   "source": [
    "En regardant les pca.explained_variance_ratio_ cumulées sur les deux premiers axes, on a 98ù de l'information donc le nombre d’axes à retenir pour conserver un minimum de 90% de l’information.\n",
    "Le plot ci-dessus aussi confirme cette conclusion."
   ]
  },
  {
   "cell_type": "code",
   "execution_count": 164,
   "id": "bbe300d7",
   "metadata": {},
   "outputs": [
    {
     "data": {
      "text/html": [
       "<div>\n",
       "<style scoped>\n",
       "    .dataframe tbody tr th:only-of-type {\n",
       "        vertical-align: middle;\n",
       "    }\n",
       "\n",
       "    .dataframe tbody tr th {\n",
       "        vertical-align: top;\n",
       "    }\n",
       "\n",
       "    .dataframe thead th {\n",
       "        text-align: right;\n",
       "    }\n",
       "</style>\n",
       "<table border=\"1\" class=\"dataframe\">\n",
       "  <thead>\n",
       "    <tr style=\"text-align: right;\">\n",
       "      <th></th>\n",
       "      <th>Id</th>\n",
       "      <th>Depenses R&amp;D</th>\n",
       "      <th>Depenses Administration</th>\n",
       "      <th>Depenses Marketing Spend</th>\n",
       "      <th>Benefice</th>\n",
       "    </tr>\n",
       "  </thead>\n",
       "  <tbody>\n",
       "    <tr>\n",
       "      <th>0</th>\n",
       "      <td>1</td>\n",
       "      <td>165349.20</td>\n",
       "      <td>136897.80</td>\n",
       "      <td>471784.10</td>\n",
       "      <td>192261.83</td>\n",
       "    </tr>\n",
       "    <tr>\n",
       "      <th>1</th>\n",
       "      <td>2</td>\n",
       "      <td>162597.70</td>\n",
       "      <td>151377.59</td>\n",
       "      <td>443898.53</td>\n",
       "      <td>191792.06</td>\n",
       "    </tr>\n",
       "    <tr>\n",
       "      <th>2</th>\n",
       "      <td>3</td>\n",
       "      <td>153441.51</td>\n",
       "      <td>101145.55</td>\n",
       "      <td>407934.54</td>\n",
       "      <td>191050.39</td>\n",
       "    </tr>\n",
       "    <tr>\n",
       "      <th>3</th>\n",
       "      <td>4</td>\n",
       "      <td>144372.41</td>\n",
       "      <td>118671.85</td>\n",
       "      <td>383199.62</td>\n",
       "      <td>182901.99</td>\n",
       "    </tr>\n",
       "  </tbody>\n",
       "</table>\n",
       "</div>"
      ],
      "text/plain": [
       "   Id  Depenses R&D  Depenses Administration  Depenses Marketing Spend  \\\n",
       "0   1     165349.20                136897.80                 471784.10   \n",
       "1   2     162597.70                151377.59                 443898.53   \n",
       "2   3     153441.51                101145.55                 407934.54   \n",
       "3   4     144372.41                118671.85                 383199.62   \n",
       "\n",
       "    Benefice  \n",
       "0  192261.83  \n",
       "1  191792.06  \n",
       "2  191050.39  \n",
       "3  182901.99  "
      ]
     },
     "execution_count": 164,
     "metadata": {},
     "output_type": "execute_result"
    }
   ],
   "source": [
    "data.head(4)"
   ]
  },
  {
   "cell_type": "code",
   "execution_count": 163,
   "id": "28540ae2",
   "metadata": {},
   "outputs": [
    {
     "data": {
      "text/plain": [
       "array([[ 0.59347855,  0.14737886,  0.52064694,  0.59580992],\n",
       "       [-0.04048087, -0.95051314,  0.30797098,  0.00632069],\n",
       "       [-0.39681837,  0.2723039 ,  0.79581463, -0.36751167],\n",
       "       [ 0.69905629, -0.02558964,  0.0275629 , -0.71407686]])"
      ]
     },
     "execution_count": 163,
     "metadata": {},
     "output_type": "execute_result"
    }
   ],
   "source": [
    "pca.components_"
   ]
  },
  {
   "cell_type": "code",
   "execution_count": 58,
   "id": "90986940",
   "metadata": {},
   "outputs": [
    {
     "data": {
      "image/png": "[encoded data removed]",
      "text/plain": [
       "<Figure size 432x288 with 1 Axes>"
      ]
     },
     "metadata": {
      "needs_background": "light"
     },
     "output_type": "display_data"
    }
   ],
   "source": [
    "X_pca= pca.transform(XNormalisé)\n",
    "import matplotlib\n",
    "plt.scatter(X_pca[:, 0], X_pca[:, 1])\n",
    "for label, x, y in zip(labels, X_pca[:, 0], X_pca[:, 1]):\n",
    " plt.annotate(label, xy=(x, y), xytext=(-0.2, 0.2), textcoords='offset points')\n",
    "plt.show()"
   ]
  },
  {
   "cell_type": "markdown",
   "id": "a1e9f22a",
   "metadata": {},
   "source": [
    "Interprétation des deux axes pricnipaux:\n",
    "\n",
    "pca.components_ permet de voir que pour l'axe 1, les Depenses Administration n'est pas corrélés avec les Benefices.\n",
    "Sur l'axe 2, On reagrde l'augemetation des depenses Administration et sans investissement dans la R&D et le marketing, on a un coefficient quasi nul pour le benefice.\n"
   ]
  },
  {
   "cell_type": "markdown",
   "id": "3bcb2eac",
   "metadata": {},
   "source": [
    "## Clustering"
   ]
  },
  {
   "cell_type": "markdown",
   "id": "1291cab5",
   "metadata": {},
   "source": [
    "### KMeans"
   ]
  },
  {
   "cell_type": "code",
   "execution_count": 72,
   "id": "1db812f7",
   "metadata": {},
   "outputs": [],
   "source": [
    "from sklearn.cluster import KMeans, AgglomerativeClustering\n",
    "import pandas as pd\n",
    "\n",
    "data = pd.read_csv(r\"C:\\Users\\ghofr\\OneDrive\\Bureau\\TP\\TP\\villes.csv\", sep=';')\n",
    "X = data.iloc[:, 1:13].values\n",
    "labels = data.iloc[:, 0].values\n",
    "\n",
    "scaler = StandardScaler()\n",
    "scaler.fit(X)\n",
    "XNormalisé = scaler.transform(X)\n",
    "\n",
    "pca.fit(XNormalisé)\n",
    "\n",
    "X_pca = pca.transform(XNormalisé)\n",
    "colors = ['red','yellow','blue']\n",
    "clustering_Kmeans = KMeans(n_clusters=3).fit(X_pca)\n",
    "\n",
    "clustering=clustering_Kmeans.labels_\n"
   ]
  },
  {
   "cell_type": "code",
   "execution_count": 73,
   "id": "331d9a58",
   "metadata": {},
   "outputs": [
    {
     "data": {
      "image/png": "[encoded data removed]",
      "text/plain": [
       "<Figure size 432x288 with 1 Axes>"
      ]
     },
     "metadata": {
      "needs_background": "light"
     },
     "output_type": "display_data"
    }
   ],
   "source": [
    "plt.scatter(X_pca[:, 0], X_pca[:, 1], c= clustering, cmap=matplotlib.colors.ListedColormap(colors))\n",
    "for label, x, y in zip(labels, X_pca[:, 0], X_pca[:, 1]):\n",
    "    plt.annotate(label, xy=(x, y), xytext=(-0.2, 0.2), textcoords='offset points')\n",
    "plt.show()"
   ]
  },
  {
   "cell_type": "markdown",
   "id": "4ba9c64f",
   "metadata": {},
   "source": [
    "### Agglomerative Clustering"
   ]
  },
  {
   "cell_type": "markdown",
   "id": "cab16a63",
   "metadata": {},
   "source": [
    "### Utilisation de la méthode ward "
   ]
  },
  {
   "cell_type": "markdown",
   "id": "9b66a3a3",
   "metadata": {},
   "source": [
    "Utilisation de ward permet de diminuer la variance des distances entre les points."
   ]
  },
  {
   "cell_type": "code",
   "execution_count": 101,
   "id": "9fca40ce",
   "metadata": {},
   "outputs": [],
   "source": [
    "clustering_Agglomerative1 = AgglomerativeClustering(n_clusters=3, linkage= 'ward').fit(X_pca)\n",
    "clustering1 = clustering_Agglomerative1.labels_"
   ]
  },
  {
   "cell_type": "code",
   "execution_count": 102,
   "id": "ca2dbbee",
   "metadata": {},
   "outputs": [
    {
     "data": {
      "image/png": "[encoded data removed]",
      "text/plain": [
       "<Figure size 432x288 with 1 Axes>"
      ]
     },
     "metadata": {
      "needs_background": "light"
     },
     "output_type": "display_data"
    }
   ],
   "source": [
    "plt.scatter(X_pca[:, 0], X_pca[:, 1], c= clustering1, cmap=matplotlib.colors.ListedColormap(colors))\n",
    "for label, x, y in zip(labels, X_pca[:, 0], X_pca[:, 1]):\n",
    "    plt.annotate(label, xy=(x, y), xytext=(-0.2, 0.2), textcoords='offset points')\n",
    "plt.show()"
   ]
  },
  {
   "cell_type": "markdown",
   "id": "239ab9e7",
   "metadata": {},
   "source": [
    "### Utilisation de la méthode average"
   ]
  },
  {
   "cell_type": "markdown",
   "id": "df2a0288",
   "metadata": {},
   "source": [
    "Utilisation de average permet de diminuer la distance moyenne entre les points."
   ]
  },
  {
   "cell_type": "code",
   "execution_count": 105,
   "id": "34590867",
   "metadata": {},
   "outputs": [],
   "source": [
    "clustering_Agglomerative2 = AgglomerativeClustering(n_clusters=3, linkage= 'average').fit(X_pca)\n",
    "clustering2 = clustering_Agglomerative2.labels_"
   ]
  },
  {
   "cell_type": "code",
   "execution_count": 106,
   "id": "d21018d4",
   "metadata": {},
   "outputs": [
    {
     "data": {
      "image/png": "[encoded data removed]",
      "text/plain": [
       "<Figure size 432x288 with 1 Axes>"
      ]
     },
     "metadata": {
      "needs_background": "light"
     },
     "output_type": "display_data"
    }
   ],
   "source": [
    "plt.scatter(X_pca[:, 0], X_pca[:, 1], c= clustering2, cmap=matplotlib.colors.ListedColormap(colors))\n",
    "for label, x, y in zip(labels, X_pca[:, 0], X_pca[:, 1]):\n",
    "    plt.annotate(label, xy=(x, y), xytext=(-0.2, 0.2), textcoords='offset points')\n",
    "plt.show()"
   ]
  },
  {
   "cell_type": "markdown",
   "id": "6eae1e30",
   "metadata": {},
   "source": [
    "### Comparaison des deux méthodes ward et average: influence des méthodes d'agrégation"
   ]
  },
  {
   "cell_type": "markdown",
   "id": "6396e5d4",
   "metadata": {},
   "source": [
    "En comparant les résultas obtenus pour les méthodes ward et average, on voit que la méthode ward a tendance à priviligier des cluster avec un minimum de variance.\n",
    "Comparé à la méthode avergae qui prilivigie les clusters dont la distance moyenne entre les points dans le meme cluster. Ce qui fait que pour la méthode average, brest est séparé dans un cluster unique."
   ]
  },
  {
   "cell_type": "markdown",
   "id": "a1f643e8",
   "metadata": {},
   "source": [
    "### Détermination de la meilleure partition qui correspond à un indice maximal pour l’indice Silhouette"
   ]
  },
  {
   "cell_type": "code",
   "execution_count": 108,
   "id": "846d5cb5",
   "metadata": {},
   "outputs": [
    {
     "name": "stdout",
     "output_type": "stream",
     "text": [
      "0.6181156437258197\n",
      "\n",
      "0.40912000832289297\n",
      "\n",
      "0.33475600714415443\n",
      "\n",
      "0.3165969475005018\n",
      "\n"
     ]
    }
   ],
   "source": [
    "from sklearn import metrics\n",
    "for i in np.arange(2, 6):\n",
    " clustering = KMeans(n_clusters=i).fit_predict(X)\n",
    " print(metrics.silhouette_score(X, clustering,metric='euclidean'))\n",
    " print()"
   ]
  },
  {
   "cell_type": "markdown",
   "id": "05dd633b",
   "metadata": {},
   "source": [
    "Le score de silhouettes est utilisé pour évaluer la qualité des clusters créés à l'aide d'algorithmes de clustering tels que K-Means, en fonction de la façon dont les échantillons sont regroupés avec d'autres échantillons similaires les uns aux autres. \n",
    "\n",
    "Le score de Silhouette est calculé pour chaque échantillon de différents clusters. Il varie entre -1 to 1. If the score is 1, le cluster est dense et bien séparé des autres clusters. Une valeur proche de 0 représente des clusters qui se chevauchent avec des échantillons très proches de la limite de décision des clusters voisins.\n",
    "\n",
    "Donc d'après les résulats obtenus en passant de K=2 à K=3, on perd de l'information. Donc on peut déduire que K=2 est la valeur optimal. "
   ]
  }
 ],
 "metadata": {
  "kernelspec": {
   "display_name": "Python 3",
   "language": "python",
   "name": "python3"
  },
  "language_info": {
   "codemirror_mode": {
    "name": "ipython",
    "version": 3
   },
   "file_extension": ".py",
   "mimetype": "text/x-python",
   "name": "python",
   "nbconvert_exporter": "python",
   "pygments_lexer": "ipython3",
   "version": "3.8.8"
  }
 },
 "nbformat": 4,
 "nbformat_minor": 5
}
